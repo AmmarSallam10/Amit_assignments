{
 "cells": [
  {
   "cell_type": "markdown",
   "id": "1b7e756f-cdf2-4102-ae1e-fe8b43849c66",
   "metadata": {},
   "source": [
    "# I need a Game for Car \n",
    "\n",
    "when i input start print \"I'm ready to go \"\n",
    "\n",
    "when i input stop print \"Car stop\"\n",
    "\n",
    "when i input Quit stop the game \n",
    "\n",
    "and add help to help him in this choise if he didn't know --> like a massage to till him"
   ]
  },
  {
   "cell_type": "markdown",
   "id": "66397f40-91a5-4c2b-a612-094a6732e697",
   "metadata": {},
   "source": [
    "# I need math game \n",
    "\n",
    "when i choise any number give my the maltiplcation of it like \n",
    "\n",
    "1*1=1\n",
    "\n",
    "1*2=2\n",
    "\n",
    "1*3=3\n",
    "\n",
    "so on ..."
   ]
  },
  {
   "cell_type": "markdown",
   "id": "713f9b31-0a7e-44a5-93c6-f2fb277d365e",
   "metadata": {},
   "source": [
    "# Note"
   ]
  },
  {
   "cell_type": "markdown",
   "id": "20ebb7a5-0599-4bd5-b3a3-ad40761943da",
   "metadata": {},
   "source": [
    "### To help you i need a class that have both this game and anther function in this class make me choise what i need to play the car game or math game "
   ]
  },
  {
   "cell_type": "code",
   "execution_count": 6,
   "id": "a8685501-82b7-483d-9198-3148e02e9c7a",
   "metadata": {},
   "outputs": [],
   "source": [
    "class Game:\n",
    "    def __init__(self):\n",
    "        self.choice = \"\"\n",
    "\n",
    "    def run(self):\n",
    "        self.choice = input(\"Which game do you want to play? Type 'car' for car game or 'math' for math game: \")\n",
    "        if self.choice == \"car\":\n",
    "            self.car_game()\n",
    "        elif self.choice == \"math\":\n",
    "            self.math_game()\n",
    "        else:\n",
    "            print(\"Invalid input. Please type 'car' or 'math'.\")\n",
    "            self.run()\n",
    "\n",
    "    def car_game(self):\n",
    "        print(\"I'm ready to go\")\n",
    "        while True:\n",
    "            action = input(\"What do you want to do? Type 'stop' to stop the car or 'quit' to exit the game: \")\n",
    "            if action == \"stop\":\n",
    "                print(\"Car stop\")\n",
    "            elif action == \"quit\":\n",
    "                print(\"Quitting game...\")\n",
    "                break\n",
    "            elif action == \"help\":\n",
    "                print(\"Type 'stop' to stop the car or 'quit' to exit the game.\")\n",
    "            else:\n",
    "                print(\"Invalid input. Type 'help' to see the available options.\")\n",
    "\n",
    "    def math_game(self):\n",
    "        num = int(input(\"Enter a number: \"))\n",
    "        for i in range(1, 11):\n",
    "            print(f\"{num} * {i} = {num*i}\")"
   ]
  },
  {
   "cell_type": "code",
   "execution_count": null,
   "id": "1739120a-a9ef-4cf9-a555-3367041079b0",
   "metadata": {},
   "outputs": [],
   "source": [
    "#run the game\n",
    "game = Game()\n",
    "game.run()"
   ]
  },
  {
   "cell_type": "code",
   "execution_count": null,
   "id": "f523e447-9aa3-4bc4-b9bf-6e738fb788ce",
   "metadata": {},
   "outputs": [],
   "source": []
  }
 ],
 "metadata": {
  "kernelspec": {
   "display_name": "Python 3 (ipykernel)",
   "language": "python",
   "name": "python3"
  },
  "language_info": {
   "codemirror_mode": {
    "name": "ipython",
    "version": 3
   },
   "file_extension": ".py",
   "mimetype": "text/x-python",
   "name": "python",
   "nbconvert_exporter": "python",
   "pygments_lexer": "ipython3",
   "version": "3.9.13"
  }
 },
 "nbformat": 4,
 "nbformat_minor": 5
}
