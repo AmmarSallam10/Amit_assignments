{
 "cells": [
  {
   "cell_type": "markdown",
   "id": "836f8f17-c205-4368-b057-46e9c83b86de",
   "metadata": {},
   "source": [
    "## Problem 1"
   ]
  },
  {
   "cell_type": "code",
   "execution_count": 2,
   "id": "83b04ea1-55cd-4fb1-b284-53b07cd47272",
   "metadata": {},
   "outputs": [
    {
     "name": "stdout",
     "output_type": "stream",
     "text": [
      "True\n",
      "False\n",
      "False\n"
     ]
    }
   ],
   "source": [
    "import numpy as np\n",
    "\n",
    "def test_nonZero(arr):\n",
    "    return np.all(arr != 0)\n",
    "\n",
    "#example\n",
    "a = np.array([1,2,3])\n",
    "b = np.array([0,1,2])\n",
    "c = np.array([1,0,2])\n",
    "\n",
    "#test\n",
    "print(test_nonZero(a))\n",
    "print(test_nonZero(b))\n",
    "print(test_nonZero(c))"
   ]
  },
  {
   "cell_type": "markdown",
   "id": "de509784-2e3e-4085-8c7d-aadfb3d33c96",
   "metadata": {},
   "source": [
    "## Problem 2"
   ]
  },
  {
   "cell_type": "code",
   "execution_count": 3,
   "id": "9a0e94c7-baeb-4c93-ab18-22b952135e49",
   "metadata": {},
   "outputs": [
    {
     "name": "stdout",
     "output_type": "stream",
     "text": [
      "True\n",
      "True\n",
      "True\n"
     ]
    }
   ],
   "source": [
    "import numpy as np\n",
    "\n",
    "def test_array_any_nonzero(arr):\n",
    "    return np.any(arr != 0)\n",
    "\n",
    "# example usage\n",
    "a = np.array([1, 2, 3])\n",
    "b = np.array([0, 4, 5])\n",
    "c = np.array([6, 7, 8, 0])\n",
    "\n",
    "print(test_array_any_nonzero(a))  \n",
    "print(test_array_any_nonzero(b))\n",
    "print(test_array_any_nonzero(c)) "
   ]
  },
  {
   "cell_type": "markdown",
   "id": "2adafd02-caa4-4098-ad39-c2af0dae6a6b",
   "metadata": {},
   "source": [
    "## Problem 3"
   ]
  },
  {
   "cell_type": "code",
   "execution_count": 4,
   "id": "d02e876a-9d5a-4a8d-8023-7bc76359aac8",
   "metadata": {},
   "outputs": [
    {
     "name": "stdout",
     "output_type": "stream",
     "text": [
      "(True, True)\n",
      "(False, True)\n",
      "(False, False)\n",
      "(False, True)\n"
     ]
    }
   ],
   "source": [
    "import numpy as np\n",
    "\n",
    "def test_array_equality(arr1, arr2, tol=1e-9):\n",
    "    exact_equality = np.array_equal(arr1, arr2)\n",
    "    within_tolerance = np.allclose(arr1, arr2, atol=tol)\n",
    "    return exact_equality, within_tolerance\n",
    "\n",
    "# example usage\n",
    "a = np.array([1, 2, 3])\n",
    "b = np.array([1, 2, 3])\n",
    "c = np.array([1, 2, 3.000000001])\n",
    "d = np.array([1, 2, 4])\n",
    "\n",
    "# exact equality\n",
    "print(test_array_equality(a, b))  \n",
    "print(test_array_equality(a, c))  \n",
    "print(test_array_equality(a, d))  \n",
    "\n",
    "# equality within a tolerance of 1e-8\n",
    "print(test_array_equality(a, c, tol=1e-8))  "
   ]
  },
  {
   "cell_type": "markdown",
   "id": "a199fdae-2e19-43e2-8cec-2185ed950003",
   "metadata": {},
   "source": [
    "## Problem 4"
   ]
  },
  {
   "cell_type": "code",
   "execution_count": 5,
   "id": "120b61da-8d0b-40a5-a172-db80a3c6660a",
   "metadata": {},
   "outputs": [
    {
     "name": "stdout",
     "output_type": "stream",
     "text": [
      "[0. 0. 0. 0. 0. 0. 0. 0. 0. 0. 1. 1. 1. 1. 1. 1. 1. 1. 1. 1. 5. 5. 5. 5.\n",
      " 5. 5. 5. 5. 5. 5.]\n"
     ]
    }
   ],
   "source": [
    "import numpy as np\n",
    "\n",
    "zeros = np.zeros(10)\n",
    "ones = np.ones(10)\n",
    "fives = np.full(10, 5)\n",
    "\n",
    "result = np.concatenate((zeros, ones, fives))\n",
    "\n",
    "print(result)"
   ]
  },
  {
   "cell_type": "markdown",
   "id": "6ab77fec-9e7a-4b34-a821-f60d2dd6f66c",
   "metadata": {},
   "source": [
    "## Problem 5"
   ]
  },
  {
   "cell_type": "code",
   "execution_count": 6,
   "id": "c4ab0690-157f-4803-94c0-f5705207b55b",
   "metadata": {},
   "outputs": [
    {
     "name": "stdout",
     "output_type": "stream",
     "text": [
      "[30 31 32 33 34 35 36 37 38 39 40 41 42 43 44 45 46 47 48 49 50 51 52 53\n",
      " 54 55 56 57 58 59 60 61 62 63 64 65 66 67 68 69 70]\n"
     ]
    }
   ],
   "source": [
    "import numpy as np\n",
    "\n",
    "arr = np.arange(30, 71)\n",
    "\n",
    "print(arr)"
   ]
  },
  {
   "cell_type": "markdown",
   "id": "c3513d65-1bfc-4492-9fbe-d42621a854df",
   "metadata": {},
   "source": [
    "## Problem 6"
   ]
  },
  {
   "cell_type": "code",
   "execution_count": 7,
   "id": "4d2254b2-06a0-4320-a9c5-6c2c259233f7",
   "metadata": {},
   "outputs": [
    {
     "name": "stdout",
     "output_type": "stream",
     "text": [
      "[[1. 0. 0.]\n",
      " [0. 1. 0.]\n",
      " [0. 0. 1.]]\n"
     ]
    }
   ],
   "source": [
    "import numpy as np\n",
    "\n",
    "identity = np.identity(3)\n",
    "\n",
    "print(identity)"
   ]
  },
  {
   "cell_type": "markdown",
   "id": "1b6ebde8-2683-462a-9e5b-ac8b91380037",
   "metadata": {},
   "source": [
    "## Problem 7"
   ]
  },
  {
   "cell_type": "code",
   "execution_count": 8,
   "id": "21c2d3b8-4202-45d5-ba74-ca658bc1923c",
   "metadata": {},
   "outputs": [
    {
     "name": "stdout",
     "output_type": "stream",
     "text": [
      "0.29341053573190923\n"
     ]
    }
   ],
   "source": [
    "import numpy as np\n",
    "\n",
    "random_number = np.random.rand()\n",
    "\n",
    "print(random_number)"
   ]
  },
  {
   "cell_type": "markdown",
   "id": "19409451-7543-4e76-941f-c17980036ece",
   "metadata": {},
   "source": [
    "## Problem 8"
   ]
  },
  {
   "cell_type": "code",
   "execution_count": 9,
   "id": "23f6272b-5346-4e90-aeeb-28dcd37f6eb7",
   "metadata": {},
   "outputs": [
    {
     "name": "stdout",
     "output_type": "stream",
     "text": [
      "[-0.54955564 -0.74633217 -0.53925054  0.37329929  0.7579668   0.22863161\n",
      " -0.75021731 -1.77221294 -2.30958753 -0.4419649   1.57327048  0.77503441\n",
      " -0.97382958  0.08878785  0.05763129]\n"
     ]
    }
   ],
   "source": [
    "import numpy as np\n",
    "\n",
    "random_array = np.random.randn(15)\n",
    "\n",
    "print(random_array)"
   ]
  },
  {
   "cell_type": "markdown",
   "id": "5eb04c3f-1ced-4cc1-8d67-af42d74ae98e",
   "metadata": {},
   "source": [
    "## Problem 9"
   ]
  },
  {
   "cell_type": "code",
   "execution_count": 10,
   "id": "254eb255-f4bd-44be-895b-e931e70526ad",
   "metadata": {},
   "outputs": [
    {
     "name": "stdout",
     "output_type": "stream",
     "text": [
      "Original vector: [15 16 17 18 19 20 21 22 23 24 25 26 27 28 29 30 31 32 33 34 35 36 37 38\n",
      " 39 40 41 42 43 44 45 46 47 48 49 50 51 52 53 54 55]\n",
      "Modified vector: [16 17 18 19 20 21 22 23 24 25 26 27 28 29 30 31 32 33 34 35 36 37 38 39\n",
      " 40 41 42 43 44 45 46 47 48 49 50 51 52 53 54]\n"
     ]
    }
   ],
   "source": [
    "import numpy as np\n",
    "\n",
    "vector = np.arange(15, 56)\n",
    "\n",
    "print(\"Original vector:\", vector)\n",
    "\n",
    "# Slice the vector to exclude first and last elements\n",
    "new_vector = vector[1:-1]\n",
    "\n",
    "print(\"Modified vector:\", new_vector)"
   ]
  },
  {
   "cell_type": "markdown",
   "id": "74dc56b3-d2c3-4acd-897a-ace3495ac3aa",
   "metadata": {},
   "source": [
    "## Problem 10"
   ]
  },
  {
   "cell_type": "code",
   "execution_count": 11,
   "id": "c6d6d598-d2a6-48eb-abfb-c70eea3f898a",
   "metadata": {},
   "outputs": [
    {
     "name": "stdout",
     "output_type": "stream",
     "text": [
      "[1 2 8 2 7]\n"
     ]
    }
   ],
   "source": [
    "import numpy as np\n",
    "\n",
    "vector = np.random.randint(0, 11, size=5)\n",
    "\n",
    "print(vector)"
   ]
  },
  {
   "cell_type": "markdown",
   "id": "b770297a-074e-46c7-b627-df28855a2460",
   "metadata": {},
   "source": [
    "## Problem 11"
   ]
  },
  {
   "cell_type": "code",
   "execution_count": 12,
   "id": "e25fbe8b-a172-484c-8501-c8729da1f918",
   "metadata": {},
   "outputs": [
    {
     "name": "stdout",
     "output_type": "stream",
     "text": [
      "[[1. 1. 1. 1. 1. 1. 1. 1. 1. 1.]\n",
      " [1. 0. 0. 0. 0. 0. 0. 0. 0. 1.]\n",
      " [1. 0. 0. 0. 0. 0. 0. 0. 0. 1.]\n",
      " [1. 0. 0. 0. 0. 0. 0. 0. 0. 1.]\n",
      " [1. 0. 0. 0. 0. 0. 0. 0. 0. 1.]\n",
      " [1. 0. 0. 0. 0. 0. 0. 0. 0. 1.]\n",
      " [1. 0. 0. 0. 0. 0. 0. 0. 0. 1.]\n",
      " [1. 0. 0. 0. 0. 0. 0. 0. 0. 1.]\n",
      " [1. 0. 0. 0. 0. 0. 0. 0. 0. 1.]\n",
      " [1. 1. 1. 1. 1. 1. 1. 1. 1. 1.]]\n"
     ]
    }
   ],
   "source": [
    "import numpy as np\n",
    "\n",
    "matrix = np.ones((10, 10))\n",
    "matrix[1:-1, 1:-1] = 0\n",
    "\n",
    "print(matrix)"
   ]
  },
  {
   "cell_type": "markdown",
   "id": "d24e8713-c58f-496d-a038-6fa05625472e",
   "metadata": {},
   "source": [
    "## Problem 12"
   ]
  },
  {
   "cell_type": "code",
   "execution_count": 13,
   "id": "a236ae88-054b-47ea-b84f-2156e4dab6b7",
   "metadata": {},
   "outputs": [
    {
     "name": "stdout",
     "output_type": "stream",
     "text": [
      "[[1. 0. 0. 0. 0.]\n",
      " [0. 2. 0. 0. 0.]\n",
      " [0. 0. 3. 0. 0.]\n",
      " [0. 0. 0. 4. 0.]\n",
      " [0. 0. 0. 0. 5.]]\n"
     ]
    }
   ],
   "source": [
    "import numpy as np\n",
    "\n",
    "matrix = np.zeros((5, 5))\n",
    "np.fill_diagonal(matrix, [1, 2, 3, 4, 5])\n",
    "\n",
    "print(matrix)"
   ]
  },
  {
   "cell_type": "markdown",
   "id": "0f9dcb56-c0ca-46cf-8e27-3e3cf4b4f68c",
   "metadata": {},
   "source": [
    "## Problem 13"
   ]
  },
  {
   "cell_type": "code",
   "execution_count": 14,
   "id": "bf618400-c168-4df0-af8a-1f423717e990",
   "metadata": {},
   "outputs": [
    {
     "name": "stdout",
     "output_type": "stream",
     "text": [
      "[[0. 1. 0. 1.]\n",
      " [1. 0. 1. 0.]\n",
      " [0. 1. 0. 1.]\n",
      " [1. 0. 1. 0.]]\n"
     ]
    }
   ],
   "source": [
    "import numpy as np\n",
    "\n",
    "matrix = np.zeros((4, 4))\n",
    "matrix[::2, 1::2] = 1\n",
    "matrix[1::2, ::2] = 1\n",
    "\n",
    "print(matrix)"
   ]
  },
  {
   "cell_type": "markdown",
   "id": "e1c9a1bd-9cef-4443-a386-f5abd9064de8",
   "metadata": {},
   "source": [
    "## Problem 14"
   ]
  },
  {
   "cell_type": "code",
   "execution_count": 15,
   "id": "1e290b6f-c387-40c6-bafc-1e1f40c5ef9b",
   "metadata": {},
   "outputs": [
    {
     "name": "stdout",
     "output_type": "stream",
     "text": [
      "Loaded array 1:\n",
      "[1 2 3]\n",
      "Loaded array 2:\n",
      "[4 5 6]\n"
     ]
    }
   ],
   "source": [
    "import numpy as np\n",
    "\n",
    "# Define two arrays to be saved\n",
    "array1 = np.array([1, 2, 3])\n",
    "array2 = np.array([4, 5, 6])\n",
    "\n",
    "# Save the arrays in a compressed file\n",
    "np.savez_compressed('my_arrays.npz', arr1=array1, arr2=array2)\n",
    "\n",
    "# Load the arrays from the file\n",
    "loaded_data = np.load('my_arrays.npz')\n",
    "\n",
    "# Retrieve the arrays from the loaded data\n",
    "loaded_array1 = loaded_data['arr1']\n",
    "loaded_array2 = loaded_data['arr2']\n",
    "\n",
    "# Print the loaded arrays\n",
    "print(\"Loaded array 1:\")\n",
    "print(loaded_array1)\n",
    "print(\"Loaded array 2:\")\n",
    "print(loaded_array2)"
   ]
  },
  {
   "cell_type": "markdown",
   "id": "ab6bb06e-22cc-4d9c-987d-9918253a5678",
   "metadata": {},
   "source": [
    "## Problem 15"
   ]
  },
  {
   "cell_type": "code",
   "execution_count": 16,
   "id": "ad059b73-4ee8-4724-bc21-b94b9ac668d8",
   "metadata": {},
   "outputs": [
    {
     "name": "stdout",
     "output_type": "stream",
     "text": [
      "Original array:\n",
      "[0.61864369 0.62924159 0.88511625 0.90602614 0.79866621 0.22025145\n",
      " 0.51418641 0.46200938 0.79739074 0.99545556 0.09728076 0.42436123\n",
      " 0.33658714 0.14814736 0.40898526 0.39892523 0.71068054 0.62837212\n",
      " 0.68917696 0.4705348  0.78203856 0.46560408 0.98228615 0.62554312\n",
      " 0.4736051  0.11532385 0.12864725 0.98376999 0.43102489 0.77990202\n",
      " 0.13403764 0.17859613 0.67686064 0.30494615 0.2143357  0.78434247\n",
      " 0.68954034 0.93623652 0.15072557 0.84050005]\n",
      "Selected values:\n",
      "[0.61864369 0.62924159 0.88511625 0.90602614 0.79866621 0.51418641\n",
      " 0.79739074 0.99545556 0.71068054 0.62837212 0.68917696 0.78203856\n",
      " 0.98228615 0.62554312 0.98376999 0.77990202 0.67686064 0.78434247\n",
      " 0.68954034 0.93623652 0.84050005]\n"
     ]
    }
   ],
   "source": [
    "import numpy as np\n",
    "\n",
    "# Create an array of 40 pseudo-randomly generated values\n",
    "arr = np.random.rand(40)\n",
    "\n",
    "# Select values greater than 0.5\n",
    "selected_values = arr[arr > 0.5]\n",
    "\n",
    "# Print the original array and the selected values\n",
    "print(\"Original array:\")\n",
    "print(arr)\n",
    "print(\"Selected values:\")\n",
    "print(selected_values)"
   ]
  },
  {
   "cell_type": "markdown",
   "id": "38d15eb2-57ca-4c30-a260-1ce6b5f978bc",
   "metadata": {},
   "source": [
    "## Problem 16"
   ]
  },
  {
   "cell_type": "code",
   "execution_count": 17,
   "id": "1428a5f0-6f80-44b1-ade8-c52f5ad5c21c",
   "metadata": {},
   "outputs": [
    {
     "name": "stdout",
     "output_type": "stream",
     "text": [
      "Numbers less than 5 : [1 3 2 4]\n",
      "Numbers greater than 5 : [7 9 6 8]\n"
     ]
    }
   ],
   "source": [
    "import numpy as np\n",
    "\n",
    "# Given array\n",
    "arr = np.array([1, 3, 5, 7, 9, 2, 4, 6, 8])\n",
    "\n",
    "# Specified number\n",
    "num = 5\n",
    "\n",
    "# Extract numbers less and greater than the specified number\n",
    "less_than_num = arr[arr < num]\n",
    "greater_than_num = arr[arr > num]\n",
    "\n",
    "# Print the results\n",
    "print(\"Numbers less than\", num, \":\", less_than_num)\n",
    "print(\"Numbers greater than\", num, \":\", greater_than_num)"
   ]
  },
  {
   "cell_type": "code",
   "execution_count": null,
   "id": "00b7c1f9-01d1-4f9d-848a-d1c7de84886b",
   "metadata": {},
   "outputs": [],
   "source": []
  }
 ],
 "metadata": {
  "kernelspec": {
   "display_name": "Python 3 (ipykernel)",
   "language": "python",
   "name": "python3"
  },
  "language_info": {
   "codemirror_mode": {
    "name": "ipython",
    "version": 3
   },
   "file_extension": ".py",
   "mimetype": "text/x-python",
   "name": "python",
   "nbconvert_exporter": "python",
   "pygments_lexer": "ipython3",
   "version": "3.9.13"
  }
 },
 "nbformat": 4,
 "nbformat_minor": 5
}
