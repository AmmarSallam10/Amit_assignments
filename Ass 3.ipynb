{
 "cells": [
  {
   "cell_type": "code",
   "execution_count": null,
   "id": "41dc0057-9804-43f4-a455-85db4602e2ea",
   "metadata": {},
   "outputs": [],
   "source": [
    "import random\n",
    "\n",
    "def play_game():\n",
    "    options = [\"rock\", \"paper\", \"scissors\"]\n",
    "    computer_choice = random.choice(options)\n",
    "    user_choice = input(\"Choose rock, paper, or scissors: \").lower()\n",
    "\n",
    "    if user_choice not in options:\n",
    "        print(\"Invalid choice. Please choose rock, paper, or scissors.\")\n",
    "        play_game()\n",
    "    elif user_choice == computer_choice:\n",
    "        print(\"Both players chose the same. It's a Draw!\")\n",
    "    elif user_choice == \"rock\":\n",
    "        if computer_choice == \"paper\":\n",
    "            print(\"Computer wins! Paper beats rock.\")\n",
    "        else:\n",
    "            print(\"You win! Rock beats scissors.\")\n",
    "    elif user_choice == \"paper\":\n",
    "        if computer_choice == \"scissors\":\n",
    "            print(\"Computer wins! Scissors beats paper.\")\n",
    "        else:\n",
    "            print(\"You win! Paper beats rock.\")\n",
    "    elif user_choice == \"scissors\":\n",
    "        if computer_choice == \"rock\":\n",
    "            print(\"Computer wins! Rock beats scissors.\")\n",
    "        else:\n",
    "            print(\"You win! Scissors beats paper.\")\n",
    "\n",
    "play_game()"
   ]
  },
  {
   "cell_type": "markdown",
   "id": "b36c107d-ce17-4495-b31f-36e89acd89f4",
   "metadata": {},
   "source": [
    "## Another Code"
   ]
  },
  {
   "cell_type": "code",
   "execution_count": null,
   "id": "76d7a389-1656-4246-b409-c7700557f2dd",
   "metadata": {},
   "outputs": [],
   "source": [
    "def play_game(player1, player2):\n",
    "    moves = [\"rock\", \"paper\", \"scissors\"]\n",
    "    if player1 not in moves or player2 not in moves:\n",
    "        print(\"Invalid move. Please choose rock, paper, or scissors.\")\n",
    "        return\n",
    "\n",
    "    if player1 == player2:\n",
    "        print(\"It's a tie!\")\n",
    "    elif (player1 == \"rock\" and player2 == \"scissors\") or \\\n",
    "         (player1 == \"paper\" and player2 == \"rock\") or \\\n",
    "         (player1 == \"scissors\" and player2 == \"paper\"):\n",
    "        print(\"Player 1 wins!\")\n",
    "    else:\n",
    "        print(\"Player 2 wins!\")\n",
    "\n",
    "# Prompt players for their moves\n",
    "player1_move = input(\"Player 1: Choose rock, paper, or scissors: \").lower()\n",
    "player2_move = input(\"Player 2: Choose rock, paper, or scissors: \").lower()\n",
    "\n",
    "# Play the game\n",
    "play_game(player1_move, player2_move)\n"
   ]
  },
  {
   "cell_type": "code",
   "execution_count": null,
   "id": "14c3b448-5dd3-4588-9674-9f0cf1203b96",
   "metadata": {},
   "outputs": [],
   "source": []
  }
 ],
 "metadata": {
  "kernelspec": {
   "display_name": "Python 3 (ipykernel)",
   "language": "python",
   "name": "python3"
  },
  "language_info": {
   "codemirror_mode": {
    "name": "ipython",
    "version": 3
   },
   "file_extension": ".py",
   "mimetype": "text/x-python",
   "name": "python",
   "nbconvert_exporter": "python",
   "pygments_lexer": "ipython3",
   "version": "3.9.13"
  }
 },
 "nbformat": 4,
 "nbformat_minor": 5
}
